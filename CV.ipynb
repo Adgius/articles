{
 "cells": [
  {
   "cell_type": "markdown",
   "metadata": {},
   "source": [
    "# Поиск нарушений на видео с помощью компьютерного зрения"
   ]
  },
  {
   "cell_type": "markdown",
   "metadata": {},
   "source": [
    "Автоматизация обработки нарушений на видеозаписях - одно из востребованных направлений компьютерного зрения во многих отраслях.  \n",
    "Сегодня мы попытаемся обнаружить на видео отсутствие клиента в кадре в момент проведения операции в автоматизированной системе. В нашем распоряжении имеются записи с камер наблюдения рабочего места сотрудника и журнал проведения операций. "
   ]
  },
  {
   "cell_type": "markdown",
   "metadata": {},
   "source": [
    "Будем искать все моменты на записи, где отсутствовал клиент. В этом нам поможет нейронная сеть MobileNet и CSRT Tracker из библиотеки **opencv**. А для удобства еще и Tesseract-OCR."
   ]
  },
  {
   "cell_type": "markdown",
   "metadata": {},
   "source": [
    "Чтобы найти человека в кадре будем использовать нейросеть MobileNet. Данная сеть позволяет обнаружить и локализовать 20 типов объектов на изображении. Для ее работы необходимо скачать два файла: архитектуру и веса. Данные файлы можно найти в репозитории Github."
   ]
  },
  {
   "cell_type": "markdown",
   "metadata": {},
   "source": [
    "Перед написанием кода нам понадобится установка библиотеки компьютерного зрения **cv2** и пакета для обработки текста на изображениях **pytesseract**.   "
   ]
  },
  {
   "cell_type": "code",
   "execution_count": null,
   "metadata": {
    "collapsed": true
   },
   "outputs": [],
   "source": [
    "!pip install opencv-python\n",
    "!pip install pytesseract"
   ]
  },
  {
   "cell_type": "markdown",
   "metadata": {},
   "source": [
    "Для работы pytesseract необходимо предварительно скачать дистрибутив Tesseract-OCR c официального сайта и установить его."
   ]
  },
  {
   "cell_type": "markdown",
   "metadata": {},
   "source": [
    "## Начинаем подготовку к обработке видео\n",
    "Импортируем пакеты и прописываем в локальное окружение путь к папке с Tesseract-OCR: \n"
   ]
  },
  {
   "cell_type": "code",
   "execution_count": null,
   "metadata": {
    "collapsed": true
   },
   "outputs": [],
   "source": [
    "import os\n",
    "\n",
    "video_path = ... #Путь к видео\n",
    "tesseract_path = ... #Путь к установленному Tesseract\n",
    "os.environ[\"PATH\"] += os.pathsep + tesseract_path\n",
    "\n",
    "import pytesseract\n",
    "import cv2\n",
    "import imutils\n",
    "import pandas as pd\n",
    "import datetime as dt"
   ]
  },
  {
   "cell_type": "markdown",
   "metadata": {},
   "source": [
    "Затем создаем таблицу, где будем хранить информацию о каждом обработанном кадре видео. Вместе с таблицей создаем еще три переменные для хранения информации о границах места клиента, времени и наличия / отсутствия клиента в кадре:"
   ]
  },
  {
   "cell_type": "code",
   "execution_count": null,
   "metadata": {
    "collapsed": true
   },
   "outputs": [],
   "source": [
    "df = pd.DataFrame(columns = ['Время', 'Клиент в кадре'])\n",
    "work_place = () #Область, где сидит клиент\n",
    "date = None #Область на видео с временем и датой\n",
    "tracked = False #Состояние отслеживания"
   ]
  },
  {
   "cell_type": "markdown",
   "metadata": {},
   "source": [
    "Укажем пути к файлам с архитектурой и весами нейронной сети, которые мы скачали ранее. Если они лежат в папке с проектом, то просто запишем их названия:"
   ]
  },
  {
   "cell_type": "code",
   "execution_count": null,
   "metadata": {
    "collapsed": true
   },
   "outputs": [],
   "source": [
    "prototxt = 'MobileNetSSD_deploy.prototxt' #Модель\n",
    "weights = 'MobileNetSSD_deploy.caffemodel' #Веса"
   ]
  },
  {
   "cell_type": "markdown",
   "metadata": {},
   "source": [
    "Как сказано выше данная нейросеть может различать 20 классов объектов, запишем их в словарь:"
   ]
  },
  {
   "cell_type": "code",
   "execution_count": null,
   "metadata": {
    "collapsed": true
   },
   "outputs": [],
   "source": [
    "classNames = {0: 'background',\n",
    "              1: 'aeroplane',\n",
    "              2: 'bicycle',\n",
    "              3: 'bird',\n",
    "              4: 'boat',\n",
    "              5: 'bottle',\n",
    "              6: 'bus',\n",
    "              7: 'car',\n",
    "              8: 'cat',\n",
    "              9: 'chair',\n",
    "              10: 'cow',\n",
    "              11: 'diningtable',\n",
    "              12: 'dog',\n",
    "              13: 'horse',\n",
    "              14: 'motorbike',\n",
    "              15: 'person',\n",
    "              16: 'pottedplant',\n",
    "              17: 'sheep',\n",
    "              18: 'sofa',\n",
    "              19: 'train',\n",
    "              20: 'tvmonitor'}"
   ]
  },
  {
   "cell_type": "markdown",
   "metadata": {},
   "source": [
    "Выставим уровень доверия низким, так как шанс ошибиться и классифицировать другой объект на рабочем месте как человека крайне низкий."
   ]
  },
  {
   "cell_type": "code",
   "execution_count": null,
   "metadata": {
    "collapsed": true
   },
   "outputs": [],
   "source": [
    "thr = 0.1 #Уровень доверия"
   ]
  },
  {
   "cell_type": "markdown",
   "metadata": {},
   "source": [
    "Инициализируем нейронную сеть:"
   ]
  },
  {
   "cell_type": "code",
   "execution_count": null,
   "metadata": {
    "collapsed": true
   },
   "outputs": [],
   "source": [
    "net = cv2.dnn.readNetFromCaffe(prototxt, weights) #Нейросеть"
   ]
  },
  {
   "cell_type": "markdown",
   "metadata": {},
   "source": [
    "Создадим объект cv2.VideoCapture, с помощью которого мы будем воспроизводить видео:"
   ]
  },
  {
   "cell_type": "code",
   "execution_count": null,
   "metadata": {
    "collapsed": true
   },
   "outputs": [],
   "source": [
    "cap = cv2.VideoCapture(video_path)"
   ]
  },
  {
   "cell_type": "markdown",
   "metadata": {},
   "source": [
    "Заявленная частота кадров в секунду в видео может отличаться от действительной, поскольку метод **.read()**, которым мы вскоре воспользуемся может пропускать некоторые кадры. Так как нас интересует точное время с камеры наблюдения, мы должны знать сколько кадров помещается в одной секунде из видео. Для этого необходимо узнать общее количество кадров в записи и разделить его на его длительность. Выполним следующий код:"
   ]
  },
  {
   "cell_type": "code",
   "execution_count": null,
   "metadata": {
    "collapsed": true
   },
   "outputs": [],
   "source": [
    "%%time\n",
    "\n",
    "cap = cv2.VideoCapture(video_path)\n",
    "\n",
    "total_frame = 0\n",
    "while True:\n",
    "    success, frame = cap.read()\n",
    "    if success:\n",
    "        total_frame += 1\n",
    "    else:\n",
    "        break\n",
    "        \n",
    "\n",
    "video_length = ... #Длительность видео в секундах\n",
    "fps = round(total_frame / video_length)\n",
    "fps"
   ]
  },
  {
   "cell_type": "markdown",
   "metadata": {},
   "source": [
    "Так как количество кадров в секунду может быть не целым числом, то возможна погрешность. В 100-минутном ролике погрешность составляла 2 секунды.   "
   ]
  },
  {
   "cell_type": "markdown",
   "metadata": {},
   "source": [
    "## Обработка видео"
   ]
  },
  {
   "cell_type": "markdown",
   "metadata": {},
   "source": [
    "Узнав действительную частоту кадров, мы, наконец, можем приступить к непосредственной обработке нашего видео.\n",
    "Запускаем цикл, который будет работать до тех пор, пока не закончатся кадры."
   ]
  },
  {
   "cell_type": "code",
   "execution_count": null,
   "metadata": {
    "collapsed": true
   },
   "outputs": [],
   "source": [
    "while cap.isOpened():\n",
    "\n",
    "    ret, frame = cap.read()\n",
    "    \n",
    "    if ret:\n",
    "        \n",
    "        frame = imutils.resize(frame, width=1200) #Качество кадра, влияет на быстродействие\n",
    "\n",
    "\n",
    "        #Получение участка кадра, где расположено рабочее место\n",
    "        if len(work_place) == 0:\n",
    "            cv2.putText(frame, 'Set the working place', (0, 90), cv2.FONT_HERSHEY_SIMPLEX, \n",
    "                2, (0,255,0), 2)\n",
    "            work_place = cv2.selectROI('frame', frame, fromCenter=False, showCrosshair=True)\n",
    "            x, y, w, h = [int(coord) for coord in work_place]\n",
    "            \n",
    "        #Получение даты\n",
    "        if not date:\n",
    "            try:\n",
    "                cv2.putText(frame, 'Set the client\\'s location', (0, 160), cv2.FONT_HERSHEY_SIMPLEX, \n",
    "                    2, (0,255,0), 2)\n",
    "                date = cv2.selectROI('frame', frame, fromCenter=False, showCrosshair=True)\n",
    "                date_x, date_y, date_w, date_h = [int(coord) for coord in date]\n",
    "                date_ = frame[date_y : date_y+date_h, date_x : date_x+date_w]\n",
    "                date_ = cv2.cvtColor(date_, cv2.COLOR_BGR2GRAY) #Приводим к градации серого\n",
    "                #date_ = cv2.threshold(date_, 0, 255, cv2.THRESH_BINARY + cv2.THRESH_OTSU)[1]\n",
    "                date_ = cv2.threshold(date_, 180, 255, 0)[1] #Можно менять значения для лучшего распознавания\n",
    "                date = pytesseract.image_to_string(date_)\n",
    "                date = dt.datetime.strptime(date, '%Y-%m-%d %H:%M:%S')\n",
    "                \n",
    "            except:\n",
    "                print('Распознать дату не удалось, введите дату вручную в формате ГОД-МЕСЯЦ-ДЕНЬ ЧАСЫ:МИНУТЫ:СЕКУНДЫ')\n",
    "                date_ = input()\n",
    "                date = dt.datetime.strptime(date_, '%Y-%m-%d %H:%M:%S')\n",
    "                \n",
    "\n",
    "        if cap.get(1) % fps == 0:\n",
    "            date += dt.timedelta(seconds = 1)\n",
    "        \n",
    "        if not tracked or (cap.get(1) % (fps * 30) == 0):\n",
    "\n",
    "            #Предобработка кадра\n",
    "            frame_resized = cv2.resize(frame, (300, 300)) #Подгон изображения под 300 на 300 пикс\n",
    "            blob = cv2.dnn.blobFromImage(frame_resized, 0.007843, \n",
    "                                         (300,300), (127.5, 127.5, 127.5), False)\n",
    "\n",
    "            #Прямой проход кадра по нейросети\n",
    "            net.setInput(blob)\n",
    "            detections = net.forward() \n",
    "            #[0, 0, object, [0, class_id, confidence, xLeftBottom, yLeftBottom, xRightTop, yRightTop]]\n",
    "\n",
    "            #Запоминаем размеры предобработанного кадра\n",
    "            cols = frame_resized.shape[1]\n",
    "            rows = frame_resized.shape[0]\n",
    "\n",
    "            #Детекция класса и получение его рамки исходных размеров\n",
    "            for obj in detections[0,0, :, :]:\n",
    "                confidence = obj[2]\n",
    "                if confidence > thr:\n",
    "\n",
    "                    class_id = int(obj[1])\n",
    "                    if class_id == 15:\n",
    "\n",
    "                        xLeftBottom = int(obj[3] * cols)\n",
    "                        yLeftBottom = int(obj[4] * rows)\n",
    "                        xRightTop   = int(obj[5] * cols)\n",
    "                        yRightTop   = int(obj[6] * rows)\n",
    "\n",
    "                        #Отношения размеров оригинального и сжатого кадра\n",
    "                        heightFactor = frame.shape[0] / 300.0\n",
    "                        widthFactor = frame.shape[1] / 300.0\n",
    "\n",
    "                        #Границы объекта на несжатом кадре\n",
    "                        xLeftBottom = int(widthFactor * xLeftBottom)\n",
    "                        yLeftBottom = int(heightFactor * yLeftBottom)\n",
    "                        xRightTop   = int(widthFactor * xRightTop)\n",
    "                        yRightTop   = int(heightFactor * yRightTop)\n",
    "\n",
    "                        #Нахождения центра рамки границы объекта\n",
    "                        xCenter = xLeftBottom + (xRightTop - xLeftBottom)/2\n",
    "                        yCenter = yLeftBottom + (yRightTop - yLeftBottom)/2\n",
    "\n",
    "                        #Проверка вхождения объекта в выделенную область\n",
    "                        if xCenter < x + w and yCenter < y + h and xCenter > x and yCenter > y:\n",
    "                            tracker = cv2.TrackerCSRT_create()\n",
    "                            tracker.init(frame, (xLeftBottom, yLeftBottom, xRightTop-xLeftBottom, yRightTop-yLeftBottom))\n",
    "                            tracked = True\n",
    "                            cv2.rectangle(frame, (xLeftBottom,yLeftBottom), (xRightTop,yRightTop), (0,255,0), 3, 1)\n",
    "                            break\n",
    "                        else:\n",
    "                            tracked = False\n",
    "        else:\n",
    "            _, bbox = tracker.update(frame)\n",
    "            X, Y, W, H = [int(coord) for coord in bbox]\n",
    "\n",
    "            xCenter = X + W/2\n",
    "            yCenter = Y + H/2\n",
    "            \n",
    "            if xCenter < x + w and yCenter < y + h and xCenter > x and yCenter > y:\n",
    "                \n",
    "                tracked = True\n",
    "                cv2.rectangle(frame, (X,Y), (X + W, Y + H), (255,255,0), 3, 1)\n",
    "            else:\n",
    "                tracked = False\n",
    "\n",
    "        cv2.imshow('frame', frame)\n",
    "        df.loc[cap.get(1), :] = [date, tracked]\n",
    "        print(cap.get(1), date, tracked) #Вывод номера кадра, даты и наличия/отсутствия клиента\n",
    "        if cv2.waitKey(1) == 27: #ESC\n",
    "            break\n",
    "    else:\n",
    "        break\n",
    "\n",
    "cap.release()\n",
    "cv2.destroyAllWindows()"
   ]
  },
  {
   "cell_type": "markdown",
   "metadata": {},
   "source": [
    "Метод **.read()** возвращает нам два значения: логическую переменную, обозначающую успешное чтение кадра, и второе значение – сам кадр.  \n",
    "\n",
    "Далее мы проверяем, указано ли место клиента, если нет, то нам предлагается обвести прямоугольную область.  \n",
    "\n",
    "Затем мы таким же образом обводим дату в кадре. Как правило, дата представлена в формате *«год-месяц-день часы:минуты:секунды»*. Выделенная область приводится к оттенкам серого, а затем пиксели разбиваются на два цвета: черный и белый, в зависимости от насыщенности оттенка серого. Результат записывается в переменную `date`.\n"
   ]
  },
  {
   "attachments": {
    "4.png": {
     "image/png": "[encoded data removed]"
    }
   },
   "cell_type": "markdown",
   "metadata": {},
   "source": [
    "![4.png](attachment:4.png)"
   ]
  },
  {
   "cell_type": "markdown",
   "metadata": {},
   "source": [
    "В таком виде *Tesseract*-у проще сделать оптическое распознавание символов  \n",
    "Если оптическое распознавание не удалось, то пользователю предлагается ввести дату вручную. Как правило, распознавание не удается, если на фоне даты находятся участки такого же цвета.  \n",
    "\n",
    "Метод **.get()** с цифрой 1 возвращает номер текущего кадра, и, если он кратен вычисленному нами ранее `fps` из видео, то прибавляем к нашему времени в переменной `date` одну секунду. Мы могли в каждом кадре распознавать дату с помощью tesseract, но тогда наша обработка затянулась бы на дни, так как оптическое распознавание очень ресурсоемкий процесс."
   ]
  },
  {
   "cell_type": "markdown",
   "metadata": {
    "collapsed": true
   },
   "source": [
    "Далее мы предобрабатываем кадр для прогона его через нейросеть: масштабируем с помощью метода **cv2.resize()** и изменяем цвет пикселей методом **cv2.dnn.blobFromImage()**.\n",
    "После чего, мы подаем предобработанный кадр в нейросеть. Обратно мы получаем предсказание, которое мы запишем в переменную `detections`. В ней будут содержаться сведения о найденных объектах, вероятности их отнесения к одному из 20 классов и координаты местоположения в кадре.  \n",
    "\n",
    "Поскольку нас интересует только человек, мы ищем все объекты с индексом 15. Если вероятность нахождения человека в кадре выше нашего доверительного уровня, и человек находится в пределах выделенного места, то мы присваиваем переменной `tracked` значение *True* и передаем найденные координаты трекеру. Результаты `tracked` и переменной `date` записываем в таблицу `df`.  \n",
    "\n",
    "После этого трекер начинает отслеживать клиента до тех пор, пока тот не выйдет из выделенной области. Как только клиент покидает область, переменная `tracked` меняется с *True* на *False*, и включается нейросеть для поиска следующего клиента.  \n",
    "\n",
    "Трекер необходим для уменьшения количества ошибок. Так как нейросеть не предназначалась для решения конкретно этой проблемы, то сидящих спиной клиентов, она распознает не в каждом кадре. Трекер частично решает проблему. \n",
    "\n",
    "В конце мы получим таблицу, где для каждого кадра записано время и наличие / отсутствие клиента в выделенной области. Сгруппируем ее по секундам и будем считать, что если хотя бы в одном кадре за секунду есть клиент, то он там действительно есть.  \n"
   ]
  },
  {
   "cell_type": "code",
   "execution_count": null,
   "metadata": {
    "collapsed": true
   },
   "outputs": [],
   "source": [
    "df_ = df.groupby('Время', as_index=False).agg(max)\n",
    "df_.to_excel('output.xlsx', index=False)"
   ]
  },
  {
   "cell_type": "markdown",
   "metadata": {},
   "source": [
    "\n",
    "## Недостатки:\n",
    "* **Медленная работа трекера**. Мы используем трекер, основанный на корреляционных фильтрах. Это один из реализованных  трекеров в библиотеке opencv. Он обладает хорошей точностью, относительно других трекеров из библиотеки, но является самым медленным.\n",
    "* **Трекер может потерять из виду объект**. При резких движениях или окклюзии трекер может потерять или начать отслеживать совершенно другой объект.\n",
    "* **Низкая способность нейросети обнаруживать клиента**. Нейросеть не всегда распознает сидячих клиентов, особенно, если они находятся спиной к камере. Поэтому важно «обнаружить» клиента, пока он стоит в полный рост. \n",
    "\n",
    "Решить первую и вторую проблему могут трекеры, основанные на глубоком обучении. Например, трекер `GOTURN`. Данный трекер реализован в библиотеке `opencv`, но для его работы необходимо скачивать дополнительные файлы. Также можно использовать популярный трекер `Re3` или недавно представленный трекер `AcurusTrack`. Третью проблему можно решить заменой нейросети и/или дообучением ее на сидящих людях.\n"
   ]
  }
 ],
 "metadata": {
  "kernelspec": {
   "display_name": "Python 3",
   "language": "python",
   "name": "python3"
  },
  "language_info": {
   "codemirror_mode": {
    "name": "ipython",
    "version": 3
   },
   "file_extension": ".py",
   "mimetype": "text/x-python",
   "name": "python",
   "nbconvert_exporter": "python",
   "pygments_lexer": "ipython3",
   "version": "3.6.1"
  }
 },
 "nbformat": 4,
 "nbformat_minor": 2
}
